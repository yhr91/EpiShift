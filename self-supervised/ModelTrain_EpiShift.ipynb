{
 "cells": [
  {
   "cell_type": "code",
   "execution_count": 1,
   "metadata": {},
   "outputs": [],
   "source": [
    "import pandas as pd\n",
    "import numpy as np\n",
    "\n",
    "from torch import Tensor\n",
    "from torch import nn\n",
    "import torch\n",
    "\n",
    "import torch.optim as optim\n",
    "from torch.optim.lr_scheduler import StepLR\n",
    "from copy import deepcopy\n",
    "\n",
    "from sklearn.model_selection import train_test_split"
   ]
  },
  {
   "cell_type": "code",
   "execution_count": 2,
   "metadata": {},
   "outputs": [],
   "source": [
    "def read_bedfile_tensor(f):\n",
    "    return Tensor(pd.read_csv(f, index_col=0)['value_scaled'].values) "
   ]
  },
  {
   "cell_type": "markdown",
   "metadata": {},
   "source": [
    "### Set up data split\n",
    "\n",
    "#### NOTE: This has to be corrected so that same patients don't end up on both train and test side"
   ]
  },
  {
   "cell_type": "code",
   "execution_count": 3,
   "metadata": {},
   "outputs": [],
   "source": [
    "#train, test = train_test_split(DNAse_labels, random_state=100)\n",
    "#train, val = train_test_split(train, random_state=100, test_size=0.1)"
   ]
  },
  {
   "cell_type": "code",
   "execution_count": 5,
   "metadata": {},
   "outputs": [],
   "source": [
    "labels = pd.read_csv('./experiment_labels.csv')"
   ]
  },
  {
   "cell_type": "code",
   "execution_count": null,
   "metadata": {
    "scrolled": true
   },
   "outputs": [],
   "source": [
    "read_in_files = []\n",
    "file_labels = labels['file_accession']\n",
    "for f in file_labels:\n",
    "    print(f)\n",
    "    try:\n",
    "        read_in_files.append(read_bedfile_tensor('./bed_files/'+f+'.bed'))\n",
    "    except:\n",
    "        print('Not found')"
   ]
  },
  {
   "cell_type": "code",
   "execution_count": 8,
   "metadata": {},
   "outputs": [],
   "source": [
    "DNAse_labels = labels[labels['modality'] == 'DNase-seq']"
   ]
  },
  {
   "cell_type": "code",
   "execution_count": 9,
   "metadata": {},
   "outputs": [],
   "source": [
    "train_ids, test_ids = train_test_split(DNAse_labels['subject_id'], random_state=100)\n",
    "train_ids, val_ids = train_test_split(train_ids, random_state=100, test_size=0.1)"
   ]
  },
  {
   "cell_type": "code",
   "execution_count": 10,
   "metadata": {},
   "outputs": [],
   "source": [
    "train_df = DNAse_labels[DNAse_labels['subject_id'].isin(train_ids)]\n",
    "val_df = DNAse_labels[DNAse_labels['subject_id'].isin(val_ids)]\n",
    "test_df = DNAse_labels[DNAse_labels['subject_id'].isin(test_ids)]"
   ]
  },
  {
   "cell_type": "code",
   "execution_count": 11,
   "metadata": {},
   "outputs": [
    {
     "data": {
      "text/plain": [
       "control    0.41875\n",
       "AD         0.31875\n",
       "MCI        0.23750\n",
       "CI         0.02500\n",
       "Name: label, dtype: float64"
      ]
     },
     "execution_count": 11,
     "metadata": {},
     "output_type": "execute_result"
    }
   ],
   "source": [
    "train_df['label'].value_counts()/len(train_df)"
   ]
  },
  {
   "cell_type": "code",
   "execution_count": 12,
   "metadata": {},
   "outputs": [
    {
     "data": {
      "text/plain": [
       "control    0.419753\n",
       "AD         0.333333\n",
       "MCI        0.148148\n",
       "CI         0.098765\n",
       "Name: label, dtype: float64"
      ]
     },
     "execution_count": 12,
     "metadata": {},
     "output_type": "execute_result"
    }
   ],
   "source": [
    "test_df['label'].value_counts()/len(test_df)"
   ]
  },
  {
   "cell_type": "code",
   "execution_count": 36,
   "metadata": {},
   "outputs": [],
   "source": [
    "read_in_tensors = torch.stack([f for f in read_in_files if len(f)==2875012])\n",
    "file_labels = [f for r, f in zip(read_in_files, file_labels) if len(r)==2875012]\n",
    "\n",
    "\n",
    "binary_y = Tensor([t=='AD' for t in labels['label']]).float()\n",
    "binary_labels = torch.stack([f for r, f in zip(read_in_files, binary_y) if len(r)==2875012])"
   ]
  },
  {
   "cell_type": "markdown",
   "metadata": {},
   "source": [
    "## Train a simple classifier"
   ]
  },
  {
   "cell_type": "markdown",
   "metadata": {},
   "source": [
    "### Set up convolutional model without feature selection"
   ]
  },
  {
   "cell_type": "code",
   "execution_count": 15,
   "metadata": {},
   "outputs": [],
   "source": [
    "class EpiShift(nn.Module):\n",
    "    \"\"\"\n",
    "    2 1D convolutions followed by a max pool\n",
    "    \n",
    "    Args:\n",
    "        conv_stride:\n",
    "        pool_stride:\n",
    "    \"\"\"\n",
    "        \n",
    "    def __init__(self, kernel_size=1000, conv_stride=5, \n",
    "                 pool_stride=5, dilation=2, embed_size=4302):\n",
    "        super(EpiShift, self).__init__()\n",
    "        \n",
    "        self.CNN = nn.Sequential(\n",
    "            nn.Conv1d(in_channels=1, out_channels=1, stride=conv_stride, \n",
    "                      kernel_size=kernel_size, dilation=dilation, bias=False),\n",
    "            nn.BatchNorm1d(1),\n",
    "            nn.ReLU(inplace=True),\n",
    "            nn.Conv1d(in_channels=1, out_channels=1, stride=conv_stride,\n",
    "                      kernel_size=kernel_size, dilation=dilation, bias=False),\n",
    "            nn.BatchNorm1d(1),\n",
    "            nn.Conv1d(in_channels=1, out_channels=1, stride=conv_stride,\n",
    "                      kernel_size=kernel_size, dilation=dilation, bias=False),\n",
    "            nn.BatchNorm1d(1),\n",
    "            nn.MaxPool1d(kernel_size=kernel_size, stride=pool_stride, padding=0, \n",
    "                         dilation=1)\n",
    "        )\n",
    "        \n",
    "        self.fc1 = nn.Linear(embed_size, 1)\n",
    "        \n",
    "    def forward(self, data: Tensor):\n",
    "        \n",
    "        embed = self.CNN(data)\n",
    "        x = self.fc1(embed)\n",
    "        return x\n",
    "\n",
    "    \n",
    "# Just logistic regression\n",
    "class LogisticReg(nn.Module):\n",
    "    \"\"\"\n",
    "    2 1D convolutions followed by a max pool\n",
    "    \n",
    "    Args:\n",
    "        conv_stride:\n",
    "        pool_stride:\n",
    "    \"\"\"\n",
    "        \n",
    "    def __init__(self, input_size):\n",
    "        super(LogisticReg, self).__init__()\n",
    "        \n",
    "        self.fc1 = nn.Linear(input_size, 1)\n",
    "        \n",
    "    def forward(self, data: Tensor):\n",
    "        \n",
    "        x = self.fc1(data)\n",
    "        return x\n",
    "    \n",
    "    \n",
    "# Autoencoder block  \n",
    "def full_block(in_features, out_features, p_drop):\n",
    "        return nn.Sequential(\n",
    "            nn.Linear(in_features, out_features, bias=True),\n",
    "            nn.LayerNorm(out_features),\n",
    "            nn.ELU(),\n",
    "            nn.Dropout(p=p_drop),\n",
    "        )\n",
    "\n",
    "class FullNet(nn.Module):\n",
    "    '''\n",
    "    '''\n",
    "    def __init__(self, x_dim, hid_dim=128, z_dim=64, p_drop=0):\n",
    "        super(FullNet, self).__init__()\n",
    "        self.z_dim = z_dim\n",
    "        \n",
    "        self.encoder = nn.Sequential(\n",
    "            full_block(x_dim, hid_dim, p_drop),\n",
    "            full_block(hid_dim, z_dim, p_drop),\n",
    "        )\n",
    "        \n",
    "        self.decoder = nn.Sequential(\n",
    "            full_block(z_dim, hid_dim, p_drop),\n",
    "            full_block(hid_dim, x_dim, p_drop),\n",
    "        )\n",
    "      \n",
    "    def forward(self, x):\n",
    "        \n",
    "        encoded = self.encoder(x)\n",
    "        decoded = self.decoder(encoded)\n",
    "        \n",
    "        return encoded, decoded\n"
   ]
  },
  {
   "cell_type": "markdown",
   "metadata": {},
   "source": [
    "### EpiShift trainer"
   ]
  },
  {
   "cell_type": "code",
   "execution_count": 16,
   "metadata": {},
   "outputs": [],
   "source": [
    "device = 'cuda:8'"
   ]
  },
  {
   "cell_type": "code",
   "execution_count": 17,
   "metadata": {},
   "outputs": [],
   "source": [
    "from torch.utils.data import DataLoader\n",
    "\n",
    "class DNAse_Dataset(torch.utils.data.Dataset):\n",
    "    def __init__(self, track, labels):\n",
    "        'Initialization'\n",
    "        self.tracks = track\n",
    "        self.labels = labels\n",
    "            \n",
    "    def __len__(self):\n",
    "        'Denotes the total number of samples'\n",
    "        return len(self.labels)\n",
    "\n",
    "    def __getitem__(self, index):\n",
    "        'Generates one sample of data'\n",
    "        return self.tracks[index], self.labels[index]"
   ]
  },
  {
   "cell_type": "code",
   "execution_count": 23,
   "metadata": {},
   "outputs": [],
   "source": [
    "train_idx = np.where([f in train_df['file_accession'].values for f in file_labels])[0]\n",
    "val_idx = np.where([f in val_df['file_accession'].values for f in file_labels])[0]\n",
    "test_idx = np.where([f in test_df['file_accession'].values for f in file_labels])[0]"
   ]
  },
  {
   "cell_type": "code",
   "execution_count": 37,
   "metadata": {},
   "outputs": [],
   "source": [
    "# Create dataloader\n",
    "train_dataset = DNAse_Dataset(read_in_tensors[train_idx], binary_labels[train_idx])\n",
    "val_dataset = DNAse_Dataset(read_in_tensors[val_idx], binary_labels[val_idx])\n",
    "test_dataset = DNAse_Dataset(read_in_tensors[test_idx], binary_labels[test_idx])\n",
    "\n",
    "train_dataloader = DataLoader(train_dataset, batch_size=20)\n",
    "val_dataloader = DataLoader(val_dataset, batch_size=20)\n",
    "test_dataloader = DataLoader(test_dataset, batch_size=20)"
   ]
  },
  {
   "cell_type": "code",
   "execution_count": 48,
   "metadata": {},
   "outputs": [
    {
     "name": "stdout",
     "output_type": "stream",
     "text": [
      "0\n",
      "Training Loss: 0.83696586\n",
      "Training Loss: 0.8512673\n",
      "Training Loss: 1.3063523\n",
      "Training Loss: 0.82901853\n",
      "Training Loss: 1.2802312\n",
      "Training Loss: 1.4568272\n",
      "Training Loss: 1.1480544\n",
      "Validation Loss: 1.0571274\n",
      "1\n",
      "Training Loss: 0.98301995\n",
      "Training Loss: 0.70448595\n",
      "Training Loss: 0.75097555\n",
      "Training Loss: 1.0437144\n",
      "Training Loss: 1.14103\n",
      "Training Loss: 0.97941\n",
      "Training Loss: 0.8278078\n",
      "Validation Loss: 1.617341\n",
      "2\n",
      "Training Loss: 0.6914822\n",
      "Training Loss: 0.654645\n",
      "Training Loss: 0.6761734\n",
      "Training Loss: 0.55688155\n",
      "Training Loss: 0.60046774\n",
      "Training Loss: 0.9573183\n",
      "Training Loss: 1.0409454\n",
      "Validation Loss: 0.9265917\n",
      "3\n",
      "Training Loss: 0.919652\n",
      "Training Loss: 0.7071683\n",
      "Training Loss: 0.6904067\n",
      "Training Loss: 0.61311495\n",
      "Training Loss: 0.6246263\n",
      "Training Loss: 0.70438874\n",
      "Training Loss: 0.7101474\n",
      "Validation Loss: 1.5077192\n",
      "4\n",
      "Training Loss: 0.6699446\n",
      "Training Loss: 0.6654951\n",
      "Training Loss: 0.6942784\n",
      "Training Loss: 0.70491755\n",
      "Training Loss: 0.6030583\n",
      "Training Loss: 0.74071276\n",
      "Training Loss: 0.79383296\n",
      "Validation Loss: 1.0445639\n",
      "5\n",
      "Training Loss: 0.7129974\n",
      "Training Loss: 0.6364816\n",
      "Training Loss: 0.6595763\n",
      "Training Loss: 0.61563\n",
      "Training Loss: 0.57192427\n",
      "Training Loss: 0.7193361\n",
      "Training Loss: 0.7044528\n",
      "Validation Loss: 1.2586613\n",
      "6\n",
      "Training Loss: 0.6391477\n",
      "Training Loss: 0.6297061\n",
      "Training Loss: 0.6440179\n",
      "Training Loss: 0.6870642\n",
      "Training Loss: 0.5774472\n",
      "Training Loss: 0.72759175\n",
      "Training Loss: 0.7213467\n",
      "Validation Loss: 1.154323\n",
      "7\n",
      "Training Loss: 0.6422174\n",
      "Training Loss: 0.61787015\n",
      "Training Loss: 0.6243548\n",
      "Training Loss: 0.6534139\n",
      "Training Loss: 0.5404602\n",
      "Training Loss: 0.747026\n",
      "Training Loss: 0.6969544\n",
      "Validation Loss: 1.2342179\n",
      "8\n",
      "Training Loss: 0.62939113\n",
      "Training Loss: 0.6108795\n",
      "Training Loss: 0.6006981\n",
      "Training Loss: 0.68886226\n",
      "Training Loss: 0.5266124\n",
      "Training Loss: 0.76739115\n",
      "Training Loss: 0.7047807\n",
      "Validation Loss: 1.227565\n",
      "9\n",
      "Training Loss: 0.62634367\n",
      "Training Loss: 0.61412615\n",
      "Training Loss: 0.5986109\n",
      "Training Loss: 0.6844584\n",
      "Training Loss: 0.53455037\n",
      "Training Loss: 0.7403459\n",
      "Training Loss: 0.6909112\n",
      "Validation Loss: 1.198107\n",
      "10\n",
      "Training Loss: 0.62280124\n",
      "Training Loss: 0.60725874\n",
      "Training Loss: 0.5748235\n",
      "Training Loss: 0.6633224\n",
      "Training Loss: 0.50055355\n",
      "Training Loss: 0.79307795\n",
      "Training Loss: 0.688751\n",
      "Validation Loss: 1.3076117\n",
      "11\n",
      "Training Loss: 0.6310346\n",
      "Training Loss: 0.61369777\n",
      "Training Loss: 0.59464055\n",
      "Training Loss: 0.7393326\n",
      "Training Loss: 0.5391645\n",
      "Training Loss: 0.74056333\n",
      "Training Loss: 0.69989586\n",
      "Validation Loss: 1.1486157\n",
      "12\n",
      "Training Loss: 0.6194486\n",
      "Training Loss: 0.6046192\n",
      "Training Loss: 0.58577865\n",
      "Training Loss: 0.64520544\n",
      "Training Loss: 0.4941678\n",
      "Training Loss: 0.7720588\n",
      "Training Loss: 0.6783409\n",
      "Validation Loss: 1.3174554\n",
      "13\n",
      "Training Loss: 0.6355325\n",
      "Training Loss: 0.6378147\n",
      "Training Loss: 0.57086724\n",
      "Training Loss: 0.6996047\n",
      "Training Loss: 0.53227395\n",
      "Training Loss: 0.75461525\n",
      "Training Loss: 0.7191562\n",
      "Validation Loss: 1.2002957\n",
      "14\n",
      "Training Loss: 0.60991436\n",
      "Training Loss: 0.5866969\n",
      "Training Loss: 0.5552284\n",
      "Training Loss: 0.6545093\n",
      "Training Loss: 0.49125943\n",
      "Training Loss: 0.74900424\n",
      "Training Loss: 0.6527928\n",
      "Validation Loss: 1.3067567\n",
      "15\n",
      "Training Loss: 0.62701374\n",
      "Training Loss: 0.601791\n",
      "Training Loss: 0.546641\n",
      "Training Loss: 0.6570615\n",
      "Training Loss: 0.5065891\n",
      "Training Loss: 0.84658474\n",
      "Training Loss: 0.6238324\n",
      "Validation Loss: 1.4174212\n",
      "16\n",
      "Training Loss: 0.6474267\n",
      "Training Loss: 0.65167844\n",
      "Training Loss: 0.6460509\n",
      "Training Loss: 0.7787369\n",
      "Training Loss: 0.6139395\n",
      "Training Loss: 0.6941228\n",
      "Training Loss: 0.704302\n",
      "Validation Loss: 1.0988821\n",
      "17\n",
      "Training Loss: 0.6241517\n",
      "Training Loss: 0.69087964\n",
      "Training Loss: 0.6584542\n",
      "Training Loss: 0.62773335\n",
      "Training Loss: 0.5527239\n",
      "Training Loss: 0.70470715\n",
      "Training Loss: 0.66516954\n",
      "Validation Loss: 1.3813748\n",
      "18\n",
      "Training Loss: 0.6321326\n",
      "Training Loss: 0.5979127\n",
      "Training Loss: 0.5994029\n",
      "Training Loss: 0.6771464\n",
      "Training Loss: 0.5312822\n",
      "Training Loss: 0.7693391\n",
      "Training Loss: 0.73968405\n",
      "Validation Loss: 1.1666329\n",
      "19\n",
      "Training Loss: 0.60007524\n",
      "Training Loss: 0.5953471\n",
      "Training Loss: 0.58297276\n",
      "Training Loss: 0.6571661\n",
      "Training Loss: 0.528922\n",
      "Training Loss: 0.7092559\n",
      "Training Loss: 0.6470235\n",
      "Validation Loss: 1.2929392\n",
      "20\n",
      "Training Loss: 0.62200516\n",
      "Training Loss: 0.597472\n",
      "Training Loss: 0.5565959\n",
      "Training Loss: 0.67287225\n",
      "Training Loss: 0.50573176\n",
      "Training Loss: 0.746498\n",
      "Training Loss: 0.689854\n",
      "Validation Loss: 1.2545795\n",
      "21\n",
      "Training Loss: 0.61334556\n",
      "Training Loss: 0.5854459\n",
      "Training Loss: 0.53770965\n",
      "Training Loss: 0.6627025\n",
      "Training Loss: 0.50232726\n",
      "Training Loss: 0.7372925\n",
      "Training Loss: 0.6633325\n",
      "Validation Loss: 1.3273284\n",
      "22\n",
      "Training Loss: 0.6265108\n",
      "Training Loss: 0.5897782\n",
      "Training Loss: 0.54483634\n",
      "Training Loss: 0.67997444\n",
      "Training Loss: 0.49671322\n",
      "Training Loss: 0.7327612\n",
      "Training Loss: 0.66232044\n",
      "Validation Loss: 1.2570508\n",
      "23\n",
      "Training Loss: 0.6140181\n",
      "Training Loss: 0.5799532\n",
      "Training Loss: 0.54016346\n",
      "Training Loss: 0.63334996\n",
      "Training Loss: 0.4991685\n",
      "Training Loss: 0.7625915\n",
      "Training Loss: 0.5899319\n",
      "Validation Loss: 1.3648496\n",
      "24\n",
      "Training Loss: 0.6396237\n",
      "Training Loss: 0.6233633\n",
      "Training Loss: 0.58223164\n",
      "Training Loss: 0.7505674\n",
      "Training Loss: 0.5478918\n",
      "Training Loss: 0.6922864\n",
      "Training Loss: 0.6733267\n",
      "Validation Loss: 1.1149544\n",
      "25\n",
      "Training Loss: 0.6093576\n",
      "Training Loss: 0.62280387\n",
      "Training Loss: 0.588529\n",
      "Training Loss: 0.5798622\n",
      "Training Loss: 0.5046313\n",
      "Training Loss: 0.67587423\n",
      "Training Loss: 0.6021892\n",
      "Validation Loss: 1.2965337\n",
      "26\n",
      "Training Loss: 0.6384884\n",
      "Training Loss: 0.589901\n",
      "Training Loss: 0.51393056\n",
      "Training Loss: 0.5361643\n",
      "Training Loss: 0.46989226\n",
      "Training Loss: 1.2334346\n",
      "Training Loss: 0.5688747\n",
      "Validation Loss: 2.320578\n",
      "27\n",
      "Training Loss: 0.76935637\n",
      "Training Loss: 0.99623746\n",
      "Training Loss: 1.2042679\n",
      "Training Loss: 1.457189\n",
      "Training Loss: 0.9786851\n",
      "Training Loss: 0.7345536\n",
      "Training Loss: 0.73980635\n",
      "Validation Loss: 1.0283017\n",
      "28\n",
      "Training Loss: 0.73348993\n",
      "Training Loss: 0.946612\n",
      "Training Loss: 0.9663515\n",
      "Training Loss: 0.56721157\n",
      "Training Loss: 0.6520844\n",
      "Training Loss: 1.0005983\n",
      "Training Loss: 0.7438056\n",
      "Validation Loss: 1.3730371\n",
      "29\n",
      "Training Loss: 0.64077675\n",
      "Training Loss: 0.7068004\n",
      "Training Loss: 0.813826\n",
      "Training Loss: 1.0499383\n",
      "Training Loss: 0.8402958\n",
      "Training Loss: 0.7313111\n",
      "Training Loss: 0.636642\n",
      "Validation Loss: 1.1212213\n"
     ]
    }
   ],
   "source": [
    "## Trainer\n",
    "model = EpiShift()\n",
    "criterion = nn.BCELoss()\n",
    "optimizer = optim.Adam(model.parameters(), lr=1e-3, \n",
    "                       weight_decay=5e-4)\n",
    "#scheduler = StepLR(optimizer, step_size=1, \n",
    "#                   gamma=0.5)\n",
    "min_val_loss = np.inf\n",
    "m = nn.Sigmoid()\n",
    "best_model = deepcopy(model)\n",
    "model.train()\n",
    "model.to(device)\n",
    "losses = []\n",
    "val_losses = []\n",
    "\n",
    "for epoch in range(30):\n",
    "    print(epoch)\n",
    "    model.train()\n",
    "    \n",
    "    # Training epoch\n",
    "    for step, data in enumerate(train_dataloader):\n",
    "        X = data[0].to(device)\n",
    "        y = data[1].to(device)\n",
    "        optimizer.zero_grad()\n",
    "\n",
    "        pred = model(X.unsqueeze(1))\n",
    "        loss = criterion(m(pred).squeeze(), y)\n",
    "        loss.backward()\n",
    "        optimizer.step()\n",
    "        \n",
    "        losses.append(loss)\n",
    "        print(\"Training Loss:\", loss.detach().cpu().numpy())\n",
    "\n",
    "    # Validation step\n",
    "    val_loss_sum = 0\n",
    "    model.eval()\n",
    "    for step, data in enumerate(val_dataloader):\n",
    "        X = data[0].to(device)\n",
    "        y = data[1].to(device)\n",
    "\n",
    "        val_pred = model(X.unsqueeze(1))\n",
    "        val_loss = criterion(m(val_pred).squeeze(), y)\n",
    "        val_loss_sum += val_loss\n",
    "        \n",
    "    print(\"Validation Loss:\", val_loss_sum.detach().cpu().numpy())\n",
    "    if val_loss_sum > min_val_loss:\n",
    "        min_val_loss = val_loss_sum\n",
    "        best_model = deepcopy(model)"
   ]
  },
  {
   "cell_type": "code",
   "execution_count": 64,
   "metadata": {},
   "outputs": [],
   "source": [
    "test_preds = []\n",
    "ys = []\n",
    "model.eval()\n",
    "\n",
    "for step, data in enumerate(test_dataloader):\n",
    "    X = data[0].to(device)\n",
    "    y = data[1].to(device)\n",
    "\n",
    "    test_pred = model(X.unsqueeze(1))\n",
    "    tp = test_pred.squeeze().cpu().detach().numpy()\n",
    "    test_preds.extend(tp)\n",
    "    ys.extend(y.cpu().detach().numpy())"
   ]
  },
  {
   "cell_type": "code",
   "execution_count": null,
   "metadata": {},
   "outputs": [],
   "source": [
    "[t.cpu().detach().numpy().flatten() for t in test_preds]"
   ]
  },
  {
   "cell_type": "code",
   "execution_count": 69,
   "metadata": {},
   "outputs": [],
   "source": [
    "from sklearn.metrics import roc_curve"
   ]
  },
  {
   "cell_type": "code",
   "execution_count": 71,
   "metadata": {},
   "outputs": [],
   "source": [
    "fpr, tpr, thresholds = roc_curve(ys, test_preds)"
   ]
  },
  {
   "cell_type": "code",
   "execution_count": 74,
   "metadata": {},
   "outputs": [
    {
     "data": {
      "text/plain": [
       "[<matplotlib.lines.Line2D at 0x7f89c3b41590>]"
      ]
     },
     "execution_count": 74,
     "metadata": {},
     "output_type": "execute_result"
    },
    {
     "data": {
      "image/png": "[encoded data removed]",
      "text/plain": [
       "<Figure size 432x288 with 1 Axes>"
      ]
     },
     "metadata": {
      "needs_background": "light"
     },
     "output_type": "display_data"
    }
   ],
   "source": [
    "import matplotlib.pyplot as plt\n",
    "plt.plot(fpr, tpr)\n",
    "plt.plot([0,1],[0,1])"
   ]
  },
  {
   "cell_type": "code",
   "execution_count": null,
   "metadata": {},
   "outputs": [],
   "source": []
  },
  {
   "cell_type": "markdown",
   "metadata": {},
   "source": [
    "### EpiMap data download script"
   ]
  },
  {
   "cell_type": "code",
   "execution_count": 4,
   "metadata": {},
   "outputs": [],
   "source": [
    "template1 = 'wget https://epigenome.wustl.edu/epimap/data/observed/FINAL_DNase-seq_BSS'\n",
    "template2 = '.sub_VS_Uniform_BKG_CONTROL_36_50000000.pval.signal.bedgraph.gz.bigWig'"
   ]
  },
  {
   "cell_type": "code",
   "execution_count": 5,
   "metadata": {},
   "outputs": [],
   "source": [
    "with open('./EpiMap/dl_script2.txt', 'a') as out_file:\n",
    "    for number in range(10,999):\n",
    "        file_num = \"{:05d}\".format(number)\n",
    "        filename = template1 + file_num + template2\n",
    "        out_file.write(filename+'\\n')"
   ]
  }
 ],
 "metadata": {
  "kernelspec": {
   "display_name": "deepsnap",
   "language": "python",
   "name": "deepsnap"
  },
  "language_info": {
   "codemirror_mode": {
    "name": "ipython",
    "version": 3
   },
   "file_extension": ".py",
   "mimetype": "text/x-python",
   "name": "python",
   "nbconvert_exporter": "python",
   "pygments_lexer": "ipython3",
   "version": "3.7.4"
  }
 },
 "nbformat": 4,
 "nbformat_minor": 2
}
